{
 "metadata": {
  "language_info": {
   "codemirror_mode": {
    "name": "ipython",
    "version": 3
   },
   "file_extension": ".py",
   "mimetype": "text/x-python",
   "name": "python",
   "nbconvert_exporter": "python",
   "pygments_lexer": "ipython3",
   "version": "3.8.5-final"
  },
  "orig_nbformat": 2,
  "kernelspec": {
   "name": "Python 3.8.5 32-bit",
   "display_name": "Python 3.8.5 32-bit",
   "metadata": {
    "interpreter": {
     "hash": "60feb0a2e7ce6d608f8a180c8596c345bf56b4dd3e03927ddd7c501ea21fdf27"
    }
   }
  }
 },
 "nbformat": 4,
 "nbformat_minor": 2,
 "cells": [
  {
   "cell_type": "code",
   "execution_count": 1,
   "metadata": {},
   "outputs": [],
   "source": [
    "import requests\n",
    "from bs4 import BeautifulSoup"
   ]
  },
  {
   "cell_type": "code",
   "execution_count": 2,
   "metadata": {},
   "outputs": [],
   "source": [
    "r=requests.get(\"https://duckduckgo.com\")\n",
    "c=r.content"
   ]
  },
  {
   "cell_type": "code",
   "execution_count": 3,
   "metadata": {},
   "outputs": [
    {
     "output_type": "execute_result",
     "data": {
      "text/plain": [
       "b'<!DOCTYPE html>\\n<!--[if IEMobile 7 ]> <html lang=\"en_US\" class=\"no-js iem7\"> <![endif]-->\\n<!--[if lt IE 7]> <html class=\"ie6 lt-ie10 lt-ie9 lt-ie8 lt-ie7 no-js\" lang=\"en_US\"> <![endif]-->\\n<!--[if IE 7]>    <html class=\"ie7 lt-ie10 lt-ie9 lt-ie8 no-js\" lang=\"en_US\"> <![endif]-->\\n<!--[if IE 8]>    <html class=\"ie8 lt-ie10 lt-ie9 no-js\" lang=\"en_US\"> <![endif]-->\\n<!--[if IE 9]>    <html class=\"ie9 lt-ie10 no-js\" lang=\"en_US\"> <![endif]-->\\n<!--[if (gte IE 9)|(gt IEMobile 7)|!(IEMobile)|!(IE)]><!--><html class=\"no-js\" lang=\"en_US\"><!--<![endif]-->\\n\\n<head>\\n\\t<meta http-equiv=\"X-UA-Compatible\" content=\"IE=Edge\" />\\n<meta http-equiv=\"content-type\" content=\"text/html; charset=UTF-8;charset=utf-8\">\\n<meta name=\"viewport\" content=\"width=device-width, initial-scale=1, user-scalable=1\" />\\n<meta name=\"HandheldFriendly\" content=\"true\"/>\\n\\n<link rel=\"canonical\" href=\"https://duckduckgo.com/\">\\n\\n<link rel=\"stylesheet\" href=\"/s1931.css\" type=\"text/css\">\\n\\n<link rel=\"stylesheet\" href=\"/o1931.css\" type=\"text/css\">\\n\\n\\n\\n<link rel=\"preload\" href=\"/font/ProximaNova-Reg-webfont.woff2\" as=\"font\" type=\"font/woff2\" crossorigin=\"anonymous\"/>\\n<link rel=\"preload\" href=\"/font/ProximaNova-Sbold-webfont.woff2\" as=\"font\" type=\"font/woff2\" crossorigin=\"anonymous\"/>\\n<link rel=\"preload\" href=\"/font/ProximaNova-ExtraBold-webfont.woff2\" as=\"font\" type=\"font/woff2\" crossorigin=\"anonymous\"/>\\n\\n<link rel=\"shortcut icon\" href=\"/favicon.ico\" type=\"image/x-icon\"/>\\n<link rel=\"apple-touch-icon\" href=\"/assets/icons/meta/DDG-iOS-icon_60x60.png\"/>\\n<link rel=\"apple-touch-icon\" sizes=\"76x76\" href=\"/assets/icons/meta/DDG-iOS-icon_76x76.png\"/>\\n<link rel=\"apple-touch-icon\" sizes=\"120x120\" href=\"/assets/icons/meta/DDG-iOS-icon_120x120.png\"/>\\n<link rel=\"apple-touch-icon\" sizes=\"152x152\" href=\"/assets/icons/meta/DDG-iOS-icon_152x152.png\"/>\\n<link rel=\"image_src\" href=\"/assets/icons/meta/DDG-icon_256x256.png\"/>\\n<link rel=\"manifest\" href=\"/manifest.json\"/>\\n\\n<meta name=\"twitter:card\" content=\"summary\">\\n<meta name=\"twitter:site\" value=\"@duckduckgo\">\\n\\n<meta property=\"og:url\" content=\"https://duckduckgo.com/\" />\\n<meta property=\"og:site_name\" content=\"DuckDuckGo\" />\\n<meta property=\"og:image\" content=\"https://duckduckgo.com/assets/logo_social-media.png\">\\n\\n\\n\\t<title>DuckDuckGo \\xe2\\x80\\x94 Privacy, simplified.</title>\\n<meta property=\"og:title\" content=\"DuckDuckGo \\xe2\\x80\\x94 Privacy, simplified.\" />\\n\\n\\n<meta property=\"og:description\" content=\"The Internet privacy company that empowers you to seamlessly take control of your personal information online, without any tradeoffs.\">\\n<meta name=\"description\" content=\"The Internet privacy company that empowers you to seamlessly take control of your personal information online, without any tradeoffs.\">\\n\\n\\n</head>\\n<body id=\"pg-index\" class=\"page-index body--home\">\\n\\t<script type=\"text/javascript\">\\nvar settings_js_version = \"/s2476.js\",\\n    locale = \"en_US\";\\n</script>\\n<script type=\"text/javascript\" src=\"/lib/l118.js\"></script>\\n<script type=\"text/javascript\" src=\"/locale/en_US/duckduckgo14.js\"></script>\\n<script type=\"text/javascript\" src=\"/util/u492.js\"></script>\\n<script type=\"text/javascript\" src=\"/d2862.js\"></script>\\n\\n\\n\\n<script type=\"text/javascript\">\\n    DDG.page = new DDG.Pages.Home();\\n</script>\\n\\n\\n\\n\\t<div class=\"site-wrapper  site-wrapper--home  js-site-wrapper\">\\n\\t\\n\\t\\t\\n\\t\\t\\t<div class=\"header-wrap--home  js-header-wrap\">\\n\\t<div class=\"header--aside js-header-aside\"></div>\\n</div>\\n\\t\\t\\t<div id=\"\" class=\"content-wrap--home\">\\n\\t\\t\\t\\t<div id=\"content_homepage\" class=\"content--home\" style=\"visibility: hidden\">\\n\\t\\t\\t\\t\\t<div class=\"cw--c\">\\n\\t\\t\\t\\t\\t\\t\\t\\t<div class=\"logo-wrap--home\">\\n\\t\\t\\t<a id=\"logo_homepage_link\" class=\"logo_homepage\" href=\"/about\">\\n\\t\\t\\t\\tAbout DuckDuckGo\\n\\t\\t\\t\\t<span class=\"logo_homepage__tt\">Duck it!</span>\\n\\t\\t\\t</a>\\n\\t\\t</div>\\n\\n\\t\\t\\t\\t\\t\\t<div class=\"search-wrap--home\">\\n\\t\\t\\t\\t\\t\\t\\t\\t\\t<form id=\"search_form_homepage\" class=\"search  search--home  js-search-form\" name=\"x\" method=\"POST\" action=\"/html\">\\n\\t\\t\\t<input id=\"search_form_input_homepage\" class=\"search__input  js-search-input\" type=\"text\" autocomplete=\"off\" name=\"q\" tabindex=\"1\" value=\"\">\\n\\t\\t\\t<input id=\"search_button_homepage\" class=\"search__button  js-search-button\" type=\"submit\" tabindex=\"2\" value=\"S\" />\\n\\t\\t\\t<input id=\"search_form_input_clear\" class=\"search__clear  empty  js-search-clear\" type=\"button\" tabindex=\"3\" value=\"X\" />\\n\\t\\t\\t<div id=\"search_elements_hidden\" class=\"search__hidden  js-search-hidden\"></div>\\n\\t\\t</form>\\n\\n\\t\\t\\t\\t\\t\\t</div>\\n\\t\\t\\n\\t\\n\\n\\t\\t\\t\\t\\t\\t<!-- en_US All Settings -->\\n<noscript>\\n    <div class=\"tag-home\">\\n        <div class=\"tag-home__wrapper\">\\n            <div class=\"tag-home__item\">\\n                Privacy, simplified&period;\\n                <span class=\"hide--screen-xs\"><a href=\"/about\" class=\"tag-home__link\">Learn More</a>.</span>\\n            </div>\\n        </div>\\n    </div>\\n</noscript>\\n<div class=\"tag-home  tag-home--slide  no-js__hide  js-tag-home\"></div>\\n<div id=\"error_homepage\"></div>\\n\\n\\n\\t\\n\\t\\t\\n\\t\\t\\t\\t\\t</div> <!-- cw -->\\n\\t\\t\\t\\t</div> <!-- content_homepage //-->\\n\\t\\t\\t</div> <!-- content_wrapper_homepage //-->\\n\\t\\t\\t<div id=\"footer_homepage\" class=\"foot-home  js-foot-home\"></div>\\n\\n<script type=\"text/javascript\">\\n\\t{function seterr(str) {\\n\\t\\tvar error=document.getElementById(\\'error_homepage\\');\\n\\t\\terror.innerHTML=str;\\n\\t\\t$(error).css(\\'display\\',\\'block\\');\\n\\t}\\n\\tvar err=new RegExp(\\'[\\\\?\\\\&]e=([^\\\\&]+)\\');var errm=new Array();errm[\\'2\\']=\\'no search\\';errm[\\'3\\']=\\'search too long\\';errm[\\'4\\']=\\'not UTF\\\\u002d8 encoding\\';errm[\\'6\\']=\\'too many search terms\\';if (err.test(window.location.href)) seterr(\\'Oops, \\'+(errm[RegExp.$1]?errm[RegExp.$1]:\\'there was an error.\\')+\\' &nbsp;Please try again\\');};\\n\\t\\n\\tif (kurl) {\\n\\t  document.getElementById(\"logo_homepage_link\").href += (document.getElementById(\"logo_homepage_link\").href.indexOf(\\'?\\')==-1 ? \\'?t=i\\' : \\'\\') + kurl;\\n\\t}\\n</script>\\n\\n\\t\\t\\n\\t\\n\\t</div> <!-- site-wrapper -->\\n</body>\\n</html>\\n'"
      ]
     },
     "metadata": {},
     "execution_count": 3
    }
   ],
   "source": [
    "c"
   ]
  },
  {
   "cell_type": "code",
   "execution_count": 4,
   "metadata": {},
   "outputs": [],
   "source": [
    "# all beautifulSoup does is parse this HTML file and give elements of all HTML tags in a readable format.abs\n",
    "soup=BeautifulSoup(c,\"html.parser\")"
   ]
  },
  {
   "cell_type": "code",
   "execution_count": 5,
   "metadata": {},
   "outputs": [
    {
     "output_type": "stream",
     "name": "stdout",
     "text": [
      "<!DOCTYPE html>\n<!--[if IEMobile 7 ]> <html lang=\"en_US\" class=\"no-js iem7\"> <![endif]-->\n<!--[if lt IE 7]> <html class=\"ie6 lt-ie10 lt-ie9 lt-ie8 lt-ie7 no-js\" lang=\"en_US\"> <![endif]-->\n<!--[if IE 7]>    <html class=\"ie7 lt-ie10 lt-ie9 lt-ie8 no-js\" lang=\"en_US\"> <![endif]-->\n<!--[if IE 8]>    <html class=\"ie8 lt-ie10 lt-ie9 no-js\" lang=\"en_US\"> <![endif]-->\n<!--[if IE 9]>    <html class=\"ie9 lt-ie10 no-js\" lang=\"en_US\"> <![endif]-->\n<!--[if (gte IE 9)|(gt IEMobile 7)|!(IEMobile)|!(IE)]><!-->\n<html class=\"no-js\" lang=\"en_US\">\n <!--<![endif]-->\n <head>\n  <meta content=\"IE=Edge\" http-equiv=\"X-UA-Compatible\"/>\n  <meta content=\"text/html; charset=utf-8;charset=utf-8\" http-equiv=\"content-type\"/>\n  <meta content=\"width=device-width, initial-scale=1, user-scalable=1\" name=\"viewport\">\n   <meta content=\"true\" name=\"HandheldFriendly\"/>\n   <link href=\"https://duckduckgo.com/\" rel=\"canonical\"/>\n   <link href=\"/s1931.css\" rel=\"stylesheet\" type=\"text/css\"/>\n   <link href=\"/o1931.css\" rel=\"stylesheet\" type=\"text/css\"/>\n   <link as=\"font\" crossorigin=\"anonymous\" href=\"/font/ProximaNova-Reg-webfont.woff2\" rel=\"preload\" type=\"font/woff2\">\n    <link as=\"font\" crossorigin=\"anonymous\" href=\"/font/ProximaNova-Sbold-webfont.woff2\" rel=\"preload\" type=\"font/woff2\">\n     <link as=\"font\" crossorigin=\"anonymous\" href=\"/font/ProximaNova-ExtraBold-webfont.woff2\" rel=\"preload\" type=\"font/woff2\">\n      <link href=\"/favicon.ico\" rel=\"shortcut icon\" type=\"image/x-icon\"/>\n      <link href=\"/assets/icons/meta/DDG-iOS-icon_60x60.png\" rel=\"apple-touch-icon\"/>\n      <link href=\"/assets/icons/meta/DDG-iOS-icon_76x76.png\" rel=\"apple-touch-icon\" sizes=\"76x76\"/>\n      <link href=\"/assets/icons/meta/DDG-iOS-icon_120x120.png\" rel=\"apple-touch-icon\" sizes=\"120x120\"/>\n      <link href=\"/assets/icons/meta/DDG-iOS-icon_152x152.png\" rel=\"apple-touch-icon\" sizes=\"152x152\"/>\n      <link href=\"/assets/icons/meta/DDG-icon_256x256.png\" rel=\"image_src\"/>\n      <link href=\"/manifest.json\" rel=\"manifest\"/>\n      <meta content=\"summary\" name=\"twitter:card\"/>\n      <meta name=\"twitter:site\" value=\"@duckduckgo\"/>\n      <meta content=\"https://duckduckgo.com/\" property=\"og:url\">\n       <meta content=\"DuckDuckGo\" property=\"og:site_name\">\n        <meta content=\"https://duckduckgo.com/assets/logo_social-media.png\" property=\"og:image\"/>\n        <title>\n         DuckDuckGo — Privacy, simplified.\n        </title>\n        <meta content=\"DuckDuckGo — Privacy, simplified.\" property=\"og:title\">\n         <meta content=\"The Internet privacy company that empowers you to seamlessly take control of your personal information online, without any tradeoffs.\" property=\"og:description\"/>\n         <meta content=\"The Internet privacy company that empowers you to seamlessly take control of your personal information online, without any tradeoffs.\" name=\"description\"/>\n        </meta>\n       </meta>\n      </meta>\n     </link>\n    </link>\n   </link>\n  </meta>\n </head>\n <body class=\"page-index body--home\" id=\"pg-index\">\n  <script type=\"text/javascript\">\n   var settings_js_version = \"/s2476.js\",\n    locale = \"en_US\";\n  </script>\n  <script src=\"/lib/l118.js\" type=\"text/javascript\">\n  </script>\n  <script src=\"/locale/en_US/duckduckgo14.js\" type=\"text/javascript\">\n  </script>\n  <script src=\"/util/u492.js\" type=\"text/javascript\">\n  </script>\n  <script src=\"/d2862.js\" type=\"text/javascript\">\n  </script>\n  <script type=\"text/javascript\">\n   DDG.page = new DDG.Pages.Home();\n  </script>\n  <div class=\"site-wrapper site-wrapper--home js-site-wrapper\">\n   <div class=\"header-wrap--home js-header-wrap\">\n    <div class=\"header--aside js-header-aside\">\n    </div>\n   </div>\n   <div class=\"content-wrap--home\" id=\"\">\n    <div class=\"content--home\" id=\"content_homepage\" style=\"visibility: hidden\">\n     <div class=\"cw--c\">\n      <div class=\"logo-wrap--home\">\n       <a class=\"logo_homepage\" href=\"/about\" id=\"logo_homepage_link\">\n        About DuckDuckGo\n        <span class=\"logo_homepage__tt\">\n         Duck it!\n        </span>\n       </a>\n      </div>\n      <div class=\"search-wrap--home\">\n       <form action=\"/html\" class=\"search search--home js-search-form\" id=\"search_form_homepage\" method=\"POST\" name=\"x\">\n        <input autocomplete=\"off\" class=\"search__input js-search-input\" id=\"search_form_input_homepage\" name=\"q\" tabindex=\"1\" type=\"text\" value=\"\"/>\n        <input class=\"search__button js-search-button\" id=\"search_button_homepage\" tabindex=\"2\" type=\"submit\" value=\"S\">\n         <input class=\"search__clear empty js-search-clear\" id=\"search_form_input_clear\" tabindex=\"3\" type=\"button\" value=\"X\"/>\n         <div class=\"search__hidden js-search-hidden\" id=\"search_elements_hidden\">\n         </div>\n        </input>\n       </form>\n      </div>\n      <!-- en_US All Settings -->\n      <noscript>\n       <div class=\"tag-home\">\n        <div class=\"tag-home__wrapper\">\n         <div class=\"tag-home__item\">\n          Privacy, simplified&amp;period\n          <span class=\"hide--screen-xs\">\n           <a class=\"tag-home__link\" href=\"/about\">\n            Learn More\n           </a>\n           .\n          </span>\n         </div>\n        </div>\n       </div>\n      </noscript>\n      <div class=\"tag-home tag-home--slide no-js__hide js-tag-home\">\n      </div>\n      <div id=\"error_homepage\">\n      </div>\n     </div>\n     <!-- cw -->\n    </div>\n    <!-- content_homepage //-->\n   </div>\n   <!-- content_wrapper_homepage //-->\n   <div class=\"foot-home js-foot-home\" id=\"footer_homepage\">\n   </div>\n   <script type=\"text/javascript\">\n    {function seterr(str) {\n\t\tvar error=document.getElementById('error_homepage');\n\t\terror.innerHTML=str;\n\t\t$(error).css('display','block');\n\t}\n\tvar err=new RegExp('[\\?\\&]e=([^\\&]+)');var errm=new Array();errm['2']='no search';errm['3']='search too long';errm['4']='not UTF\\u002d8 encoding';errm['6']='too many search terms';if (err.test(window.location.href)) seterr('Oops, '+(errm[RegExp.$1]?errm[RegExp.$1]:'there was an error.')+' &nbsp;Please try again');};\n\t\n\tif (kurl) {\n\t  document.getElementById(\"logo_homepage_link\").href += (document.getElementById(\"logo_homepage_link\").href.indexOf('?')==-1 ? '?t=i' : '') + kurl;\n\t}\n   </script>\n  </div>\n  <!-- site-wrapper -->\n </body>\n</html>\n\n"
     ]
    }
   ],
   "source": [
    "print(soup.prettify())"
   ]
  },
  {
   "cell_type": "code",
   "execution_count": 8,
   "metadata": {},
   "outputs": [],
   "source": [
    "all=soup.find_all(\"div\",{\"class\": \"nav-menu--theme\"})"
   ]
  },
  {
   "cell_type": "code",
   "execution_count": 9,
   "metadata": {},
   "outputs": [
    {
     "output_type": "execute_result",
     "data": {
      "text/plain": [
       "[]"
      ]
     },
     "metadata": {},
     "execution_count": 9
    }
   ],
   "source": [
    "all"
   ]
  },
  {
   "cell_type": "code",
   "execution_count": 12,
   "metadata": {},
   "outputs": [],
   "source": [
    "all=soup.find(\"div\", {\"class\": \"site-wrapper site-wrapper--home js-site-wrapper\"})\n",
    "# this tag supports indexing"
   ]
  },
  {
   "cell_type": "code",
   "execution_count": 13,
   "metadata": {},
   "outputs": [
    {
     "output_type": "execute_result",
     "data": {
      "text/plain": [
       "<div class=\"site-wrapper site-wrapper--home js-site-wrapper\">\n",
       "<div class=\"header-wrap--home js-header-wrap\">\n",
       "<div class=\"header--aside js-header-aside\"></div>\n",
       "</div>\n",
       "<div class=\"content-wrap--home\" id=\"\">\n",
       "<div class=\"content--home\" id=\"content_homepage\" style=\"visibility: hidden\">\n",
       "<div class=\"cw--c\">\n",
       "<div class=\"logo-wrap--home\">\n",
       "<a class=\"logo_homepage\" href=\"/about\" id=\"logo_homepage_link\">\n",
       "\t\t\t\tAbout DuckDuckGo\n",
       "\t\t\t\t<span class=\"logo_homepage__tt\">Duck it!</span>\n",
       "</a>\n",
       "</div>\n",
       "<div class=\"search-wrap--home\">\n",
       "<form action=\"/html\" class=\"search search--home js-search-form\" id=\"search_form_homepage\" method=\"POST\" name=\"x\">\n",
       "<input autocomplete=\"off\" class=\"search__input js-search-input\" id=\"search_form_input_homepage\" name=\"q\" tabindex=\"1\" type=\"text\" value=\"\"/>\n",
       "<input class=\"search__button js-search-button\" id=\"search_button_homepage\" tabindex=\"2\" type=\"submit\" value=\"S\">\n",
       "<input class=\"search__clear empty js-search-clear\" id=\"search_form_input_clear\" tabindex=\"3\" type=\"button\" value=\"X\"/>\n",
       "<div class=\"search__hidden js-search-hidden\" id=\"search_elements_hidden\"></div>\n",
       "</input></form>\n",
       "</div>\n",
       "<!-- en_US All Settings -->\n",
       "<noscript>\n",
       "<div class=\"tag-home\">\n",
       "<div class=\"tag-home__wrapper\">\n",
       "<div class=\"tag-home__item\">\n",
       "                Privacy, simplified&amp;period\n",
       "                <span class=\"hide--screen-xs\"><a class=\"tag-home__link\" href=\"/about\">Learn More</a>.</span>\n",
       "</div>\n",
       "</div>\n",
       "</div>\n",
       "</noscript>\n",
       "<div class=\"tag-home tag-home--slide no-js__hide js-tag-home\"></div>\n",
       "<div id=\"error_homepage\"></div>\n",
       "</div> <!-- cw -->\n",
       "</div> <!-- content_homepage //-->\n",
       "</div> <!-- content_wrapper_homepage //-->\n",
       "<div class=\"foot-home js-foot-home\" id=\"footer_homepage\"></div>\n",
       "<script type=\"text/javascript\">\n",
       "\t{function seterr(str) {\n",
       "\t\tvar error=document.getElementById('error_homepage');\n",
       "\t\terror.innerHTML=str;\n",
       "\t\t$(error).css('display','block');\n",
       "\t}\n",
       "\tvar err=new RegExp('[\\?\\&]e=([^\\&]+)');var errm=new Array();errm['2']='no search';errm['3']='search too long';errm['4']='not UTF\\u002d8 encoding';errm['6']='too many search terms';if (err.test(window.location.href)) seterr('Oops, '+(errm[RegExp.$1]?errm[RegExp.$1]:'there was an error.')+' &nbsp;Please try again');};\n",
       "\t\n",
       "\tif (kurl) {\n",
       "\t  document.getElementById(\"logo_homepage_link\").href += (document.getElementById(\"logo_homepage_link\").href.indexOf('?')==-1 ? '?t=i' : '') + kurl;\n",
       "\t}\n",
       "</script>\n",
       "</div>"
      ]
     },
     "metadata": {},
     "execution_count": 13
    }
   ],
   "source": [
    "all"
   ]
  },
  {
   "cell_type": "code",
   "execution_count": 14,
   "metadata": {},
   "outputs": [
    {
     "output_type": "execute_result",
     "data": {
      "text/plain": [
       "bs4.element.Tag"
      ]
     },
     "metadata": {},
     "execution_count": 14
    }
   ],
   "source": [
    "type(all)"
   ]
  },
  {
   "cell_type": "code",
   "execution_count": 17,
   "metadata": {},
   "outputs": [],
   "source": [
    "all=soup.find(\"div\", {\"class\": \"site-wrapper site-wrapper--home js-site-wrapper\"})"
   ]
  },
  {
   "cell_type": "code",
   "execution_count": 19,
   "metadata": {},
   "outputs": [
    {
     "output_type": "execute_result",
     "data": {
      "text/plain": [
       "<div class=\"site-wrapper site-wrapper--home js-site-wrapper\">\n",
       "<div class=\"header-wrap--home js-header-wrap\">\n",
       "<div class=\"header--aside js-header-aside\"></div>\n",
       "</div>\n",
       "<div class=\"content-wrap--home\" id=\"\">\n",
       "<div class=\"content--home\" id=\"content_homepage\" style=\"visibility: hidden\">\n",
       "<div class=\"cw--c\">\n",
       "<div class=\"logo-wrap--home\">\n",
       "<a class=\"logo_homepage\" href=\"/about\" id=\"logo_homepage_link\">\n",
       "\t\t\t\tAbout DuckDuckGo\n",
       "\t\t\t\t<span class=\"logo_homepage__tt\">Duck it!</span>\n",
       "</a>\n",
       "</div>\n",
       "<div class=\"search-wrap--home\">\n",
       "<form action=\"/html\" class=\"search search--home js-search-form\" id=\"search_form_homepage\" method=\"POST\" name=\"x\">\n",
       "<input autocomplete=\"off\" class=\"search__input js-search-input\" id=\"search_form_input_homepage\" name=\"q\" tabindex=\"1\" type=\"text\" value=\"\"/>\n",
       "<input class=\"search__button js-search-button\" id=\"search_button_homepage\" tabindex=\"2\" type=\"submit\" value=\"S\">\n",
       "<input class=\"search__clear empty js-search-clear\" id=\"search_form_input_clear\" tabindex=\"3\" type=\"button\" value=\"X\"/>\n",
       "<div class=\"search__hidden js-search-hidden\" id=\"search_elements_hidden\"></div>\n",
       "</input></form>\n",
       "</div>\n",
       "<!-- en_US All Settings -->\n",
       "<noscript>\n",
       "<div class=\"tag-home\">\n",
       "<div class=\"tag-home__wrapper\">\n",
       "<div class=\"tag-home__item\">\n",
       "                Privacy, simplified&amp;period\n",
       "                <span class=\"hide--screen-xs\"><a class=\"tag-home__link\" href=\"/about\">Learn More</a>.</span>\n",
       "</div>\n",
       "</div>\n",
       "</div>\n",
       "</noscript>\n",
       "<div class=\"tag-home tag-home--slide no-js__hide js-tag-home\"></div>\n",
       "<div id=\"error_homepage\"></div>\n",
       "</div> <!-- cw -->\n",
       "</div> <!-- content_homepage //-->\n",
       "</div> <!-- content_wrapper_homepage //-->\n",
       "<div class=\"foot-home js-foot-home\" id=\"footer_homepage\"></div>\n",
       "<script type=\"text/javascript\">\n",
       "\t{function seterr(str) {\n",
       "\t\tvar error=document.getElementById('error_homepage');\n",
       "\t\terror.innerHTML=str;\n",
       "\t\t$(error).css('display','block');\n",
       "\t}\n",
       "\tvar err=new RegExp('[\\?\\&]e=([^\\&]+)');var errm=new Array();errm['2']='no search';errm['3']='search too long';errm['4']='not UTF\\u002d8 encoding';errm['6']='too many search terms';if (err.test(window.location.href)) seterr('Oops, '+(errm[RegExp.$1]?errm[RegExp.$1]:'there was an error.')+' &nbsp;Please try again');};\n",
       "\t\n",
       "\tif (kurl) {\n",
       "\t  document.getElementById(\"logo_homepage_link\").href += (document.getElementById(\"logo_homepage_link\").href.indexOf('?')==-1 ? '?t=i' : '') + kurl;\n",
       "\t}\n",
       "</script>\n",
       "</div>"
      ]
     },
     "metadata": {},
     "execution_count": 19
    }
   ],
   "source": [
    "all"
   ]
  },
  {
   "cell_type": "code",
   "execution_count": 21,
   "metadata": {},
   "outputs": [
    {
     "output_type": "error",
     "ename": "KeyError",
     "evalue": "0",
     "traceback": [
      "\u001b[1;31m---------------------------------------------------------------------------\u001b[0m",
      "\u001b[1;31mKeyError\u001b[0m                                  Traceback (most recent call last)",
      "\u001b[1;32m<ipython-input-21-7195d51039cd>\u001b[0m in \u001b[0;36m<module>\u001b[1;34m\u001b[0m\n\u001b[1;32m----> 1\u001b[1;33m \u001b[0mall\u001b[0m\u001b[1;33m[\u001b[0m\u001b[1;36m0\u001b[0m\u001b[1;33m]\u001b[0m\u001b[1;33m.\u001b[0m\u001b[0mfind_all\u001b[0m\u001b[1;33m(\u001b[0m\u001b[1;34m\"h2\"\u001b[0m\u001b[1;33m)\u001b[0m\u001b[1;33m\u001b[0m\u001b[1;33m\u001b[0m\u001b[0m\n\u001b[0m",
      "\u001b[1;32m~\\AppData\\Local\\Programs\\Python\\Python38-32\\lib\\site-packages\\bs4\\element.py\u001b[0m in \u001b[0;36m__getitem__\u001b[1;34m(self, key)\u001b[0m\n\u001b[0;32m   1404\u001b[0m         \"\"\"tag[key] returns the value of the 'key' attribute for the Tag,\n\u001b[0;32m   1405\u001b[0m         and throws an exception if it's not there.\"\"\"\n\u001b[1;32m-> 1406\u001b[1;33m         \u001b[1;32mreturn\u001b[0m \u001b[0mself\u001b[0m\u001b[1;33m.\u001b[0m\u001b[0mattrs\u001b[0m\u001b[1;33m[\u001b[0m\u001b[0mkey\u001b[0m\u001b[1;33m]\u001b[0m\u001b[1;33m\u001b[0m\u001b[1;33m\u001b[0m\u001b[0m\n\u001b[0m\u001b[0;32m   1407\u001b[0m \u001b[1;33m\u001b[0m\u001b[0m\n\u001b[0;32m   1408\u001b[0m     \u001b[1;32mdef\u001b[0m \u001b[0m__iter__\u001b[0m\u001b[1;33m(\u001b[0m\u001b[0mself\u001b[0m\u001b[1;33m)\u001b[0m\u001b[1;33m:\u001b[0m\u001b[1;33m\u001b[0m\u001b[1;33m\u001b[0m\u001b[0m\n",
      "\u001b[1;31mKeyError\u001b[0m: 0"
     ]
    }
   ],
   "source": [
    "all[0].find_all(\"h2\")"
   ]
  },
  {
   "cell_type": "code",
   "execution_count": 23,
   "metadata": {},
   "outputs": [
    {
     "output_type": "execute_result",
     "data": {
      "text/plain": [
       "[]"
      ]
     },
     "metadata": {},
     "execution_count": 23
    }
   ],
   "source": [
    "all.find_all(\"h2\")"
   ]
  },
  {
   "cell_type": "code",
   "execution_count": 27,
   "metadata": {},
   "outputs": [
    {
     "output_type": "error",
     "ename": "AttributeError",
     "evalue": "'NavigableString' object has no attribute 'find_all'",
     "traceback": [
      "\u001b[1;31m---------------------------------------------------------------------------\u001b[0m",
      "\u001b[1;31mAttributeError\u001b[0m                            Traceback (most recent call last)",
      "\u001b[1;32m<ipython-input-27-d06070c6167e>\u001b[0m in \u001b[0;36m<module>\u001b[1;34m\u001b[0m\n\u001b[0;32m      1\u001b[0m \u001b[1;32mfor\u001b[0m \u001b[0mitem\u001b[0m \u001b[1;32min\u001b[0m \u001b[0mall\u001b[0m\u001b[1;33m:\u001b[0m\u001b[1;33m\u001b[0m\u001b[1;33m\u001b[0m\u001b[0m\n\u001b[1;32m----> 2\u001b[1;33m     \u001b[0mprint\u001b[0m\u001b[1;33m(\u001b[0m\u001b[0mitem\u001b[0m\u001b[1;33m.\u001b[0m\u001b[0mfind_all\u001b[0m\u001b[1;33m(\u001b[0m\u001b[1;34m\"p\"\u001b[0m\u001b[1;33m)\u001b[0m\u001b[1;33m)\u001b[0m\u001b[1;33m\u001b[0m\u001b[1;33m\u001b[0m\u001b[0m\n\u001b[0m",
      "\u001b[1;32m~\\AppData\\Local\\Programs\\Python\\Python38-32\\lib\\site-packages\\bs4\\element.py\u001b[0m in \u001b[0;36m__getattr__\u001b[1;34m(self, attr)\u001b[0m\n\u001b[0;32m    919\u001b[0m             \u001b[1;32mreturn\u001b[0m \u001b[0mself\u001b[0m\u001b[1;33m\u001b[0m\u001b[1;33m\u001b[0m\u001b[0m\n\u001b[0;32m    920\u001b[0m         \u001b[1;32melse\u001b[0m\u001b[1;33m:\u001b[0m\u001b[1;33m\u001b[0m\u001b[1;33m\u001b[0m\u001b[0m\n\u001b[1;32m--> 921\u001b[1;33m             raise AttributeError(\n\u001b[0m\u001b[0;32m    922\u001b[0m                 \"'%s' object has no attribute '%s'\" % (\n\u001b[0;32m    923\u001b[0m                     self.__class__.__name__, attr))\n",
      "\u001b[1;31mAttributeError\u001b[0m: 'NavigableString' object has no attribute 'find_all'"
     ]
    }
   ],
   "source": [
    "for item in all:\n",
    "    print(item.find_all(\"p\"))"
   ]
  },
  {
   "cell_type": "code",
   "execution_count": null,
   "metadata": {},
   "outputs": [],
   "source": []
  }
 ]
}